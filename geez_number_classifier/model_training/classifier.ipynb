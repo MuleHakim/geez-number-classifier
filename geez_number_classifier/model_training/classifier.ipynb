{
 "cells": [
  {
   "cell_type": "markdown",
   "metadata": {},
   "source": [
    "# Load the Data"
   ]
  },
  {
   "cell_type": "code",
   "execution_count": 1,
   "metadata": {},
   "outputs": [],
   "source": [
    "import pandas as pd\n",
    "\n",
    "df = pd.read_csv(\"./datasets/geez_numbers.csv\")"
   ]
  },
  {
   "cell_type": "code",
   "execution_count": 2,
   "metadata": {},
   "outputs": [
    {
     "data": {
      "text/html": [
       "<div>\n",
       "<style scoped>\n",
       "    .dataframe tbody tr th:only-of-type {\n",
       "        vertical-align: middle;\n",
       "    }\n",
       "\n",
       "    .dataframe tbody tr th {\n",
       "        vertical-align: top;\n",
       "    }\n",
       "\n",
       "    .dataframe thead th {\n",
       "        text-align: right;\n",
       "    }\n",
       "</style>\n",
       "<table border=\"1\" class=\"dataframe\">\n",
       "  <thead>\n",
       "    <tr style=\"text-align: right;\">\n",
       "      <th></th>\n",
       "      <th>0</th>\n",
       "      <th>1</th>\n",
       "      <th>2</th>\n",
       "      <th>3</th>\n",
       "      <th>4</th>\n",
       "      <th>5</th>\n",
       "      <th>6</th>\n",
       "      <th>7</th>\n",
       "      <th>8</th>\n",
       "      <th>9</th>\n",
       "      <th>...</th>\n",
       "      <th>775</th>\n",
       "      <th>776</th>\n",
       "      <th>777</th>\n",
       "      <th>778</th>\n",
       "      <th>779</th>\n",
       "      <th>780</th>\n",
       "      <th>781</th>\n",
       "      <th>782</th>\n",
       "      <th>783</th>\n",
       "      <th>784</th>\n",
       "    </tr>\n",
       "  </thead>\n",
       "  <tbody>\n",
       "    <tr>\n",
       "      <th>0</th>\n",
       "      <td>150</td>\n",
       "      <td>153</td>\n",
       "      <td>151</td>\n",
       "      <td>153</td>\n",
       "      <td>153</td>\n",
       "      <td>157</td>\n",
       "      <td>155</td>\n",
       "      <td>156</td>\n",
       "      <td>156</td>\n",
       "      <td>157</td>\n",
       "      <td>...</td>\n",
       "      <td>145</td>\n",
       "      <td>150</td>\n",
       "      <td>150</td>\n",
       "      <td>147</td>\n",
       "      <td>150</td>\n",
       "      <td>152</td>\n",
       "      <td>152</td>\n",
       "      <td>156</td>\n",
       "      <td>156</td>\n",
       "      <td>0</td>\n",
       "    </tr>\n",
       "    <tr>\n",
       "      <th>1</th>\n",
       "      <td>168</td>\n",
       "      <td>167</td>\n",
       "      <td>164</td>\n",
       "      <td>167</td>\n",
       "      <td>171</td>\n",
       "      <td>172</td>\n",
       "      <td>168</td>\n",
       "      <td>172</td>\n",
       "      <td>174</td>\n",
       "      <td>171</td>\n",
       "      <td>...</td>\n",
       "      <td>159</td>\n",
       "      <td>153</td>\n",
       "      <td>158</td>\n",
       "      <td>157</td>\n",
       "      <td>155</td>\n",
       "      <td>161</td>\n",
       "      <td>160</td>\n",
       "      <td>164</td>\n",
       "      <td>167</td>\n",
       "      <td>0</td>\n",
       "    </tr>\n",
       "    <tr>\n",
       "      <th>2</th>\n",
       "      <td>157</td>\n",
       "      <td>164</td>\n",
       "      <td>162</td>\n",
       "      <td>157</td>\n",
       "      <td>161</td>\n",
       "      <td>160</td>\n",
       "      <td>164</td>\n",
       "      <td>164</td>\n",
       "      <td>163</td>\n",
       "      <td>163</td>\n",
       "      <td>...</td>\n",
       "      <td>135</td>\n",
       "      <td>142</td>\n",
       "      <td>143</td>\n",
       "      <td>140</td>\n",
       "      <td>142</td>\n",
       "      <td>143</td>\n",
       "      <td>146</td>\n",
       "      <td>148</td>\n",
       "      <td>151</td>\n",
       "      <td>0</td>\n",
       "    </tr>\n",
       "    <tr>\n",
       "      <th>3</th>\n",
       "      <td>150</td>\n",
       "      <td>154</td>\n",
       "      <td>152</td>\n",
       "      <td>152</td>\n",
       "      <td>155</td>\n",
       "      <td>153</td>\n",
       "      <td>156</td>\n",
       "      <td>156</td>\n",
       "      <td>153</td>\n",
       "      <td>150</td>\n",
       "      <td>...</td>\n",
       "      <td>116</td>\n",
       "      <td>128</td>\n",
       "      <td>130</td>\n",
       "      <td>128</td>\n",
       "      <td>129</td>\n",
       "      <td>131</td>\n",
       "      <td>133</td>\n",
       "      <td>135</td>\n",
       "      <td>137</td>\n",
       "      <td>0</td>\n",
       "    </tr>\n",
       "    <tr>\n",
       "      <th>4</th>\n",
       "      <td>157</td>\n",
       "      <td>155</td>\n",
       "      <td>155</td>\n",
       "      <td>157</td>\n",
       "      <td>161</td>\n",
       "      <td>156</td>\n",
       "      <td>155</td>\n",
       "      <td>158</td>\n",
       "      <td>157</td>\n",
       "      <td>158</td>\n",
       "      <td>...</td>\n",
       "      <td>126</td>\n",
       "      <td>127</td>\n",
       "      <td>127</td>\n",
       "      <td>130</td>\n",
       "      <td>131</td>\n",
       "      <td>132</td>\n",
       "      <td>128</td>\n",
       "      <td>136</td>\n",
       "      <td>139</td>\n",
       "      <td>0</td>\n",
       "    </tr>\n",
       "    <tr>\n",
       "      <th>...</th>\n",
       "      <td>...</td>\n",
       "      <td>...</td>\n",
       "      <td>...</td>\n",
       "      <td>...</td>\n",
       "      <td>...</td>\n",
       "      <td>...</td>\n",
       "      <td>...</td>\n",
       "      <td>...</td>\n",
       "      <td>...</td>\n",
       "      <td>...</td>\n",
       "      <td>...</td>\n",
       "      <td>...</td>\n",
       "      <td>...</td>\n",
       "      <td>...</td>\n",
       "      <td>...</td>\n",
       "      <td>...</td>\n",
       "      <td>...</td>\n",
       "      <td>...</td>\n",
       "      <td>...</td>\n",
       "      <td>...</td>\n",
       "      <td>...</td>\n",
       "    </tr>\n",
       "    <tr>\n",
       "      <th>209</th>\n",
       "      <td>146</td>\n",
       "      <td>149</td>\n",
       "      <td>145</td>\n",
       "      <td>147</td>\n",
       "      <td>146</td>\n",
       "      <td>148</td>\n",
       "      <td>148</td>\n",
       "      <td>150</td>\n",
       "      <td>146</td>\n",
       "      <td>143</td>\n",
       "      <td>...</td>\n",
       "      <td>146</td>\n",
       "      <td>149</td>\n",
       "      <td>149</td>\n",
       "      <td>155</td>\n",
       "      <td>153</td>\n",
       "      <td>160</td>\n",
       "      <td>159</td>\n",
       "      <td>164</td>\n",
       "      <td>169</td>\n",
       "      <td>9</td>\n",
       "    </tr>\n",
       "    <tr>\n",
       "      <th>210</th>\n",
       "      <td>156</td>\n",
       "      <td>160</td>\n",
       "      <td>155</td>\n",
       "      <td>159</td>\n",
       "      <td>159</td>\n",
       "      <td>157</td>\n",
       "      <td>159</td>\n",
       "      <td>164</td>\n",
       "      <td>162</td>\n",
       "      <td>163</td>\n",
       "      <td>...</td>\n",
       "      <td>155</td>\n",
       "      <td>157</td>\n",
       "      <td>161</td>\n",
       "      <td>161</td>\n",
       "      <td>160</td>\n",
       "      <td>168</td>\n",
       "      <td>169</td>\n",
       "      <td>177</td>\n",
       "      <td>182</td>\n",
       "      <td>9</td>\n",
       "    </tr>\n",
       "    <tr>\n",
       "      <th>211</th>\n",
       "      <td>217</td>\n",
       "      <td>214</td>\n",
       "      <td>213</td>\n",
       "      <td>213</td>\n",
       "      <td>217</td>\n",
       "      <td>219</td>\n",
       "      <td>212</td>\n",
       "      <td>217</td>\n",
       "      <td>214</td>\n",
       "      <td>213</td>\n",
       "      <td>...</td>\n",
       "      <td>210</td>\n",
       "      <td>215</td>\n",
       "      <td>211</td>\n",
       "      <td>217</td>\n",
       "      <td>220</td>\n",
       "      <td>221</td>\n",
       "      <td>221</td>\n",
       "      <td>228</td>\n",
       "      <td>234</td>\n",
       "      <td>9</td>\n",
       "    </tr>\n",
       "    <tr>\n",
       "      <th>212</th>\n",
       "      <td>200</td>\n",
       "      <td>202</td>\n",
       "      <td>202</td>\n",
       "      <td>202</td>\n",
       "      <td>201</td>\n",
       "      <td>204</td>\n",
       "      <td>201</td>\n",
       "      <td>204</td>\n",
       "      <td>204</td>\n",
       "      <td>204</td>\n",
       "      <td>...</td>\n",
       "      <td>204</td>\n",
       "      <td>209</td>\n",
       "      <td>208</td>\n",
       "      <td>208</td>\n",
       "      <td>213</td>\n",
       "      <td>213</td>\n",
       "      <td>216</td>\n",
       "      <td>223</td>\n",
       "      <td>222</td>\n",
       "      <td>9</td>\n",
       "    </tr>\n",
       "    <tr>\n",
       "      <th>213</th>\n",
       "      <td>148</td>\n",
       "      <td>154</td>\n",
       "      <td>152</td>\n",
       "      <td>150</td>\n",
       "      <td>149</td>\n",
       "      <td>151</td>\n",
       "      <td>156</td>\n",
       "      <td>153</td>\n",
       "      <td>153</td>\n",
       "      <td>152</td>\n",
       "      <td>...</td>\n",
       "      <td>148</td>\n",
       "      <td>151</td>\n",
       "      <td>155</td>\n",
       "      <td>159</td>\n",
       "      <td>166</td>\n",
       "      <td>164</td>\n",
       "      <td>171</td>\n",
       "      <td>171</td>\n",
       "      <td>175</td>\n",
       "      <td>9</td>\n",
       "    </tr>\n",
       "  </tbody>\n",
       "</table>\n",
       "<p>214 rows × 785 columns</p>\n",
       "</div>"
      ],
      "text/plain": [
       "       0    1    2    3    4    5    6    7    8    9  ...  775  776  777  \\\n",
       "0    150  153  151  153  153  157  155  156  156  157  ...  145  150  150   \n",
       "1    168  167  164  167  171  172  168  172  174  171  ...  159  153  158   \n",
       "2    157  164  162  157  161  160  164  164  163  163  ...  135  142  143   \n",
       "3    150  154  152  152  155  153  156  156  153  150  ...  116  128  130   \n",
       "4    157  155  155  157  161  156  155  158  157  158  ...  126  127  127   \n",
       "..   ...  ...  ...  ...  ...  ...  ...  ...  ...  ...  ...  ...  ...  ...   \n",
       "209  146  149  145  147  146  148  148  150  146  143  ...  146  149  149   \n",
       "210  156  160  155  159  159  157  159  164  162  163  ...  155  157  161   \n",
       "211  217  214  213  213  217  219  212  217  214  213  ...  210  215  211   \n",
       "212  200  202  202  202  201  204  201  204  204  204  ...  204  209  208   \n",
       "213  148  154  152  150  149  151  156  153  153  152  ...  148  151  155   \n",
       "\n",
       "     778  779  780  781  782  783  784  \n",
       "0    147  150  152  152  156  156    0  \n",
       "1    157  155  161  160  164  167    0  \n",
       "2    140  142  143  146  148  151    0  \n",
       "3    128  129  131  133  135  137    0  \n",
       "4    130  131  132  128  136  139    0  \n",
       "..   ...  ...  ...  ...  ...  ...  ...  \n",
       "209  155  153  160  159  164  169    9  \n",
       "210  161  160  168  169  177  182    9  \n",
       "211  217  220  221  221  228  234    9  \n",
       "212  208  213  213  216  223  222    9  \n",
       "213  159  166  164  171  171  175    9  \n",
       "\n",
       "[214 rows x 785 columns]"
      ]
     },
     "execution_count": 2,
     "metadata": {},
     "output_type": "execute_result"
    }
   ],
   "source": [
    "df"
   ]
  },
  {
   "cell_type": "code",
   "execution_count": 11,
   "metadata": {},
   "outputs": [
    {
     "data": {
      "text/plain": [
       "1    26\n",
       "6    26\n",
       "2    25\n",
       "3    25\n",
       "5    25\n",
       "4    21\n",
       "7    19\n",
       "9    17\n",
       "0    16\n",
       "8    14\n",
       "Name: 784, dtype: int64"
      ]
     },
     "execution_count": 11,
     "metadata": {},
     "output_type": "execute_result"
    }
   ],
   "source": [
    "df[\"784\"].value_counts()"
   ]
  },
  {
   "cell_type": "markdown",
   "metadata": {},
   "source": [
    "# Visualize the Data"
   ]
  },
  {
   "cell_type": "code",
   "execution_count": 5,
   "metadata": {},
   "outputs": [
    {
     "data": {
      "text/plain": [
       "<AxesSubplot:>"
      ]
     },
     "execution_count": 5,
     "metadata": {},
     "output_type": "execute_result"
    },
    {
     "data": {
      "image/png": "[encoded data removed]",
      "text/plain": [
       "<Figure size 640x480 with 1 Axes>"
      ]
     },
     "metadata": {},
     "output_type": "display_data"
    }
   ],
   "source": [
    "df[\"784\"].hist()"
   ]
  },
  {
   "cell_type": "markdown",
   "metadata": {},
   "source": [
    "# Stratified Shuffling"
   ]
  },
  {
   "cell_type": "code",
   "execution_count": 15,
   "metadata": {},
   "outputs": [],
   "source": [
    "from sklearn.model_selection import StratifiedShuffleSplit\n",
    "splited = StratifiedShuffleSplit(n_splits=1, test_size=0.2, random_state=42)\n",
    "\n",
    "for train_index, test_index in splited.split(df, df[\"784\"]):\n",
    "    train_set = df.loc[train_index]\n",
    "    test_set = df.loc[test_index]\n",
    "    \n"
   ]
  },
  {
   "cell_type": "code",
   "execution_count": 16,
   "metadata": {},
   "outputs": [
    {
     "data": {
      "text/plain": [
       "(171, 785)"
      ]
     },
     "execution_count": 16,
     "metadata": {},
     "output_type": "execute_result"
    }
   ],
   "source": [
    "train_set.shape"
   ]
  },
  {
   "cell_type": "code",
   "execution_count": 65,
   "metadata": {},
   "outputs": [
    {
     "data": {
      "text/plain": [
       "(43, 785)"
      ]
     },
     "execution_count": 65,
     "metadata": {},
     "output_type": "execute_result"
    }
   ],
   "source": [
    "test_set.shape"
   ]
  },
  {
   "cell_type": "code",
   "execution_count": 18,
   "metadata": {},
   "outputs": [
    {
     "data": {
      "text/plain": [
       "<AxesSubplot:>"
      ]
     },
     "execution_count": 18,
     "metadata": {},
     "output_type": "execute_result"
    },
    {
     "data": {
      "image/png": "[encoded data removed]",
      "text/plain": [
       "<Figure size 640x480 with 1 Axes>"
      ]
     },
     "metadata": {},
     "output_type": "display_data"
    }
   ],
   "source": [
    "train_set[\"784\"].hist()"
   ]
  },
  {
   "cell_type": "code",
   "execution_count": 19,
   "metadata": {},
   "outputs": [
    {
     "data": {
      "text/plain": [
       "<AxesSubplot:>"
      ]
     },
     "execution_count": 19,
     "metadata": {},
     "output_type": "execute_result"
    },
    {
     "data": {
      "image/png": "[encoded data removed]",
      "text/plain": [
       "<Figure size 640x480 with 1 Axes>"
      ]
     },
     "metadata": {},
     "output_type": "display_data"
    }
   ],
   "source": [
    "test_set[\"784\"].hist()"
   ]
  },
  {
   "cell_type": "code",
   "execution_count": 23,
   "metadata": {},
   "outputs": [],
   "source": [
    "X_train, y_train, X_test, y_test = train_set.loc[:, train_set.columns != \"784\"], train_set[\"784\"], test_set.loc[:, test_set.columns != \"784\"], test_set[\"784\"]\n"
   ]
  },
  {
   "cell_type": "markdown",
   "metadata": {},
   "source": [
    "# Training a Model"
   ]
  },
  {
   "cell_type": "code",
   "execution_count": 25,
   "metadata": {},
   "outputs": [
    {
     "data": {
      "text/plain": [
       "RandomForestClassifier(max_leaf_nodes=100, n_estimators=500, n_jobs=-1,\n",
       "                       random_state=42)"
      ]
     },
     "execution_count": 25,
     "metadata": {},
     "output_type": "execute_result"
    }
   ],
   "source": [
    "from sklearn.ensemble import RandomForestClassifier\n",
    "forest_clf = RandomForestClassifier(random_state=42, n_estimators=500, max_leaf_nodes=100, n_jobs=-1)\n",
    "forest_clf.fit(X_train.values, y_train.values)"
   ]
  },
  {
   "cell_type": "code",
   "execution_count": 27,
   "metadata": {},
   "outputs": [
    {
     "name": "stdout",
     "output_type": "stream",
     "text": [
      "true value 163    6\n",
      "Name: 784, dtype: int64\n",
      "predicted value [6]\n"
     ]
    },
    {
     "data": {
      "text/plain": [
       "<matplotlib.image.AxesImage at 0x288a435b160>"
      ]
     },
     "execution_count": 27,
     "metadata": {},
     "output_type": "execute_result"
    },
    {
     "data": {
      "image/png": "[encoded data removed]",
      "text/plain": [
       "<Figure size 640x480 with 1 Axes>"
      ]
     },
     "metadata": {},
     "output_type": "display_data"
    }
   ],
   "source": [
    "import random\n",
    "import matplotlib.pyplot as plt\n",
    "import numpy as np\n",
    "\n",
    "index = random.randint(0, 183)\n",
    "some_digit = np.array(X_train.iloc[[index]])\n",
    "print(\"true value\", y_train.iloc[[index]])\n",
    "print(\"predicted value\", forest_clf.predict(some_digit))\n",
    "plt.imshow(some_digit[0].reshape(28, 28), cmap=\"gray\")"
   ]
  },
  {
   "cell_type": "markdown",
   "metadata": {},
   "source": [
    "# Feature Importance"
   ]
  },
  {
   "cell_type": "code",
   "execution_count": 28,
   "metadata": {},
   "outputs": [
    {
     "data": {
      "text/plain": [
       "<matplotlib.image.AxesImage at 0x288a4372a30>"
      ]
     },
     "execution_count": 28,
     "metadata": {},
     "output_type": "execute_result"
    },
    {
     "data": {
      "image/png": "[encoded data removed]",
      "text/plain": [
       "<Figure size 640x480 with 1 Axes>"
      ]
     },
     "metadata": {},
     "output_type": "display_data"
    }
   ],
   "source": [
    "plt.imshow(forest_clf.feature_importances_.reshape(28, 28), cmap=\"hot\")"
   ]
  },
  {
   "cell_type": "markdown",
   "metadata": {},
   "source": [
    "# Measuring Performance"
   ]
  },
  {
   "cell_type": "markdown",
   "metadata": {},
   "source": [
    "## confusion matrix"
   ]
  },
  {
   "cell_type": "code",
   "execution_count": 29,
   "metadata": {},
   "outputs": [
    {
     "name": "stdout",
     "output_type": "stream",
     "text": [
      "[3 6 3 1 4 6 2 3 0 2 4 2 2 7 6 2 2 4 4 6 1 3 2 3 7 1 3 0 4 5 5 8 2 1 6 3 2\n",
      " 5 1 2 5 6 4 7 0 1 1 4 1 0 2 0 0 1 3 0 8 3 1 4 7 1 1 3 1 4 8 4 6 1 2 3 5 5\n",
      " 1 3 5 0 5 2 1 2 4 0 2 3 3 5 2 9 3 6 2 6 1 4 5 7 2 3 5 6 9 0 8 1 5 4 6 1 6\n",
      " 5 0 4 2 6 0 2 0 0 9 4 6 6 8 6 1 7 0 5 4 0 9 5 2 2 6 1 5 4 1 5 3 6 5 7 1 5\n",
      " 6 3 5 2 1 4 3 2 1 7 7 6 3 2 9 0 2 3 1 5 6 6 6]\n"
     ]
    }
   ],
   "source": [
    "from sklearn.model_selection import cross_val_predict\n",
    "\n",
    "y_train_pred = cross_val_predict(forest_clf, X_train, y_train, cv=3)\n",
    "print(y_train_pred)"
   ]
  },
  {
   "cell_type": "code",
   "execution_count": 30,
   "metadata": {},
   "outputs": [],
   "source": [
    "from sklearn.metrics import confusion_matrix\n",
    "\n",
    "conf_mx = confusion_matrix(y_train, y_train_pred)"
   ]
  },
  {
   "cell_type": "code",
   "execution_count": 35,
   "metadata": {},
   "outputs": [
    {
     "data": {
      "text/plain": [
       "<matplotlib.image.AxesImage at 0x288a569c910>"
      ]
     },
     "execution_count": 35,
     "metadata": {},
     "output_type": "execute_result"
    },
    {
     "data": {
      "image/png": "[encoded data removed]",
      "text/plain": [
       "<Figure size 480x480 with 1 Axes>"
      ]
     },
     "metadata": {},
     "output_type": "display_data"
    }
   ],
   "source": [
    "plt.matshow(conf_mx, cmap=\"gray\")"
   ]
  },
  {
   "cell_type": "markdown",
   "metadata": {},
   "source": [
    "## Grid Search"
   ]
  },
  {
   "cell_type": "code",
   "execution_count": 36,
   "metadata": {},
   "outputs": [
    {
     "data": {
      "text/plain": [
       "GridSearchCV(cv=5, estimator=RandomForestClassifier(),\n",
       "             param_grid=[{'max_leaf_nodes': [8, 16, 32, 64],\n",
       "                          'n_estimators': [100, 150, 200, 250]}],\n",
       "             return_train_score=True, scoring='neg_mean_squared_error')"
      ]
     },
     "execution_count": 36,
     "metadata": {},
     "output_type": "execute_result"
    }
   ],
   "source": [
    "from sklearn.model_selection import GridSearchCV\n",
    "param_grid = [{'n_estimators': [100, 150, 200, 250], 'max_leaf_nodes': [8, 16, 32, 64]}]\n",
    "forest_clf = RandomForestClassifier()\n",
    "grid_search = GridSearchCV(forest_clf, param_grid, cv=5, scoring='neg_mean_squared_error', return_train_score=True)\n",
    "grid_search.fit(X_train, y_train)"
   ]
  },
  {
   "cell_type": "code",
   "execution_count": 40,
   "metadata": {},
   "outputs": [
    {
     "data": {
      "text/plain": [
       "{'max_leaf_nodes': 32, 'n_estimators': 100}"
      ]
     },
     "execution_count": 40,
     "metadata": {},
     "output_type": "execute_result"
    }
   ],
   "source": [
    "grid_search.best_params_"
   ]
  },
  {
   "cell_type": "code",
   "execution_count": 41,
   "metadata": {},
   "outputs": [
    {
     "data": {
      "text/plain": [
       "['forest_clf.joblib']"
      ]
     },
     "execution_count": 41,
     "metadata": {},
     "output_type": "execute_result"
    }
   ],
   "source": [
    "import joblib\n",
    "forest_clf = grid_search.best_estimator_\n",
    "joblib.dump(forest_clf, \"forest_clf.joblib\")"
   ]
  },
  {
   "cell_type": "markdown",
   "metadata": {},
   "source": [
    "# Validating on the Test Set"
   ]
  },
  {
   "cell_type": "code",
   "execution_count": 42,
   "metadata": {},
   "outputs": [],
   "source": [
    "y_pred = forest_clf.predict(X_test)"
   ]
  },
  {
   "cell_type": "code",
   "execution_count": 43,
   "metadata": {},
   "outputs": [],
   "source": [
    "conf_mx = confusion_matrix(y_pred, y_test)"
   ]
  },
  {
   "cell_type": "code",
   "execution_count": 44,
   "metadata": {},
   "outputs": [
    {
     "data": {
      "text/plain": [
       "<matplotlib.image.AxesImage at 0x288a43fe190>"
      ]
     },
     "execution_count": 44,
     "metadata": {},
     "output_type": "execute_result"
    },
    {
     "data": {
      "image/png": "[encoded data removed]",
      "text/plain": [
       "<Figure size 640x480 with 1 Axes>"
      ]
     },
     "metadata": {},
     "output_type": "display_data"
    }
   ],
   "source": [
    "plt.imshow(conf_mx, cmap = \"gray\")"
   ]
  },
  {
   "cell_type": "markdown",
   "metadata": {},
   "source": [
    "# ROC Curve"
   ]
  },
  {
   "cell_type": "code",
   "execution_count": 47,
   "metadata": {},
   "outputs": [
    {
     "data": {
      "text/plain": [
       "array([[2.00000000e-02, 2.50000000e-03, 2.65000000e-02, 2.00000000e-02,\n",
       "        4.29166667e-02, 1.05833333e-01, 2.26583333e-01, 4.37416667e-01,\n",
       "        8.54166667e-02, 3.28333333e-02],\n",
       "       [4.76190476e-04, 1.56880952e-01, 9.20168067e-02, 0.00000000e+00,\n",
       "        4.84166667e-02, 4.00000000e-02, 3.40161765e-01, 7.17261905e-02,\n",
       "        2.19154762e-01, 3.11666667e-02],\n",
       "       [2.33333333e-02, 6.66666667e-03, 2.97777778e-02, 1.50000000e-02,\n",
       "        5.11111111e-02, 2.37833333e-01, 2.00119048e-01, 2.70542717e-01,\n",
       "        1.45782680e-01, 1.98333333e-02],\n",
       "       [2.33333333e-02, 2.64285714e-02, 1.41111111e-01, 1.71664502e-01,\n",
       "        4.01293651e-01, 8.06349206e-02, 8.60119048e-02, 9.86111111e-03,\n",
       "        1.90656566e-02, 4.05952381e-02],\n",
       "       [2.75000000e-01, 2.22868937e-01, 1.60673346e-01, 2.41025641e-02,\n",
       "        9.40263158e-02, 6.00000000e-02, 3.70000000e-02, 4.81145511e-02,\n",
       "        2.40476190e-02, 5.41666667e-02],\n",
       "       [1.61111111e-02, 7.28104575e-02, 5.10840013e-01, 5.66025641e-02,\n",
       "        5.19444444e-02, 6.27777778e-02, 5.25000000e-02, 3.41993464e-02,\n",
       "        7.62698413e-02, 6.59444444e-02],\n",
       "       [2.66666667e-02, 6.83333333e-02, 1.93397436e-01, 3.79399666e-01,\n",
       "        8.55362319e-02, 9.75000000e-02, 3.16666667e-02, 4.33333333e-02,\n",
       "        3.41666667e-02, 4.00000000e-02],\n",
       "       [7.03333333e-02, 6.00000000e-02, 4.53333333e-02, 5.25000000e-02,\n",
       "        6.65750916e-02, 4.32091575e-01, 6.20000000e-02, 5.28333333e-02,\n",
       "        1.10833333e-01, 4.75000000e-02],\n",
       "       [1.78095238e-02, 6.92494987e-01, 3.38095238e-02, 6.66666667e-03,\n",
       "        2.61929825e-02, 5.83333333e-03, 1.66666667e-02, 2.52631579e-03,\n",
       "        3.33333333e-03, 1.94666667e-01],\n",
       "       [3.23333333e-02, 4.63058480e-01, 3.82619048e-02, 4.50000000e-03,\n",
       "        1.78596491e-02, 2.83333333e-02, 4.21666667e-02, 8.02631579e-03,\n",
       "        1.20000000e-02, 3.53460317e-01],\n",
       "       [5.02777778e-02, 1.54222222e-01, 1.53000000e-01, 1.45000000e-02,\n",
       "        6.12777778e-02, 4.97777778e-02, 9.55476190e-02, 1.49956349e-01,\n",
       "        2.63662698e-01, 7.77777778e-03],\n",
       "       [2.75000000e-02, 1.25000000e-02, 1.35588235e-01, 1.52000000e-01,\n",
       "        1.04333333e-01, 1.45000000e-01, 2.62364146e-01, 1.10714286e-01,\n",
       "        1.25000000e-02, 3.75000000e-02],\n",
       "       [1.02000000e-01, 1.25611111e-01, 1.34940476e-01, 2.45454545e-02,\n",
       "        7.89583333e-02, 7.79166667e-02, 5.37500000e-02, 1.50000000e-02,\n",
       "        2.04545455e-02, 3.66823413e-01],\n",
       "       [4.95000000e-02, 5.65882353e-02, 2.35864146e-01, 1.45000000e-02,\n",
       "        8.11666667e-02, 2.78333333e-02, 1.59451865e-01, 2.14021819e-01,\n",
       "        1.29073935e-01, 3.20000000e-02],\n",
       "       [1.00000000e-02, 1.00000000e-02, 3.36111111e-02, 3.00000000e-02,\n",
       "        8.61111111e-03, 9.27777778e-02, 1.20555556e-01, 1.18750000e-01,\n",
       "        5.75694444e-01, 0.00000000e+00],\n",
       "       [1.05142857e-01, 3.58939432e-01, 4.97380952e-02, 6.66666667e-03,\n",
       "        5.84846491e-02, 2.83333333e-02, 4.47500000e-02, 4.52631579e-03,\n",
       "        4.53333333e-02, 2.98085317e-01],\n",
       "       [3.88095238e-02, 7.15328321e-01, 2.04761905e-02, 0.00000000e+00,\n",
       "        3.55263158e-02, 5.68333333e-02, 3.17857143e-02, 1.24060150e-03,\n",
       "        2.00000000e-02, 8.00000000e-02],\n",
       "       [6.94444444e-03, 7.78104575e-02, 4.15657473e-01, 1.11602564e-01,\n",
       "        1.47791667e-01, 2.02777778e-02, 7.95833333e-02, 2.66993464e-02,\n",
       "        3.07539683e-02, 8.28789683e-02],\n",
       "       [3.00000000e-02, 2.25000000e-02, 7.80882353e-02, 1.20000000e-02,\n",
       "        5.37261905e-02, 1.75000000e-02, 3.22399860e-01, 4.18530812e-01,\n",
       "        2.49215686e-02, 2.03333333e-02],\n",
       "       [1.02333333e-01, 5.65261905e-01, 1.20000000e-02, 2.76190476e-02,\n",
       "        5.48333333e-02, 7.58730159e-02, 3.03174603e-02, 5.33333333e-03,\n",
       "        4.25000000e-02, 8.39285714e-02],\n",
       "       [2.20000000e-02, 2.10709273e-01, 3.54921569e-01, 1.41666667e-02,\n",
       "        7.50560777e-02, 3.10000000e-02, 1.23161765e-01, 5.70263158e-02,\n",
       "        6.07619048e-02, 5.11964286e-02],\n",
       "       [1.00253968e-01, 1.92858077e-01, 2.27783847e-01, 1.50000000e-02,\n",
       "        8.82916667e-02, 3.97777778e-02, 6.44166667e-02, 4.45326797e-02,\n",
       "        2.11111111e-02, 2.05974206e-01],\n",
       "       [2.08333333e-02, 0.00000000e+00, 1.00000000e-02, 6.25130435e-01,\n",
       "        1.98560041e-01, 5.00000000e-02, 6.98809524e-02, 8.09523810e-03,\n",
       "        1.00000000e-02, 7.50000000e-03],\n",
       "       [0.00000000e+00, 6.31250000e-02, 1.00000000e-02, 7.29166667e-03,\n",
       "        6.68429487e-02, 7.31351496e-01, 4.38888889e-02, 4.91666667e-02,\n",
       "        1.58333333e-02, 1.25000000e-02],\n",
       "       [6.05000000e-02, 5.00000000e-03, 3.45000000e-02, 5.33333333e-02,\n",
       "        7.11011905e-02, 2.78333333e-02, 5.00980576e-01, 1.98600251e-01,\n",
       "        3.50263158e-02, 1.31250000e-02],\n",
       "       [1.05833333e-01, 2.34285714e-02, 7.31666667e-02, 1.66785714e-01,\n",
       "        1.64765568e-01, 2.37155067e-01, 8.81746032e-02, 2.75952381e-02,\n",
       "        1.01666667e-01, 1.14285714e-02],\n",
       "       [4.11111111e-02, 6.03472222e-02, 2.60833333e-01, 8.89583333e-02,\n",
       "        1.71944444e-01, 1.79027778e-01, 4.66666667e-02, 5.65277778e-02,\n",
       "        5.59722222e-02, 3.86111111e-02],\n",
       "       [2.08333333e-02, 1.33333333e-02, 7.03333333e-02, 2.41175889e-01,\n",
       "        3.99345756e-01, 7.83333333e-02, 8.07738095e-02, 4.87500000e-02,\n",
       "        1.96212121e-02, 2.75000000e-02],\n",
       "       [5.95000000e-02, 1.45833333e-02, 5.66666667e-02, 4.73378788e-01,\n",
       "        2.80250000e-01, 4.45000000e-02, 3.16666667e-02, 2.00000000e-02,\n",
       "        1.24545455e-02, 7.00000000e-03],\n",
       "       [3.42777778e-02, 7.28888889e-02, 1.43000000e-01, 1.50000000e-02,\n",
       "        9.83849206e-02, 4.12777778e-02, 1.18845238e-01, 2.20051587e-01,\n",
       "        2.15162698e-01, 4.11111111e-02],\n",
       "       [1.09000000e-01, 7.33333333e-02, 6.74215686e-02, 2.00000000e-02,\n",
       "        3.99166667e-02, 3.30000000e-02, 2.08749484e-01, 1.79528822e-01,\n",
       "        2.39216792e-01, 2.98333333e-02],\n",
       "       [1.68666667e-01, 8.09523810e-03, 9.00000000e-03, 2.20000000e-02,\n",
       "        2.30418651e-01, 2.69708333e-01, 1.34452381e-01, 2.72142857e-02,\n",
       "        5.70000000e-02, 7.34444444e-02],\n",
       "       [3.33333333e-03, 3.05952381e-02, 1.16666667e-02, 2.20000000e-02,\n",
       "        8.08869048e-02, 3.85684524e-01, 2.38452381e-01, 1.60714286e-01,\n",
       "        4.16666667e-02, 2.50000000e-02],\n",
       "       [3.33333333e-02, 5.03333333e-02, 1.99064103e-01, 3.39232999e-01,\n",
       "        1.56036232e-01, 6.56666667e-02, 2.45000000e-02, 4.50000000e-02,\n",
       "        4.65000000e-02, 4.03333333e-02],\n",
       "       [2.70000000e-02, 8.92857143e-03, 4.53333333e-02, 1.57500000e-01,\n",
       "        2.17619048e-01, 2.12000000e-01, 1.66642857e-01, 6.74761905e-02,\n",
       "        7.50000000e-02, 2.25000000e-02],\n",
       "       [2.50000000e-02, 8.25882353e-02, 5.79656863e-01, 4.50000000e-02,\n",
       "        3.50000000e-02, 5.70000000e-02, 4.66666667e-02, 4.55882353e-02,\n",
       "        4.95000000e-02, 3.40000000e-02],\n",
       "       [1.32708333e-01, 7.22807018e-02, 3.97777778e-02, 2.63666667e-01,\n",
       "        1.19754490e-01, 6.64444444e-02, 3.15238095e-02, 4.37326650e-02,\n",
       "        8.14444444e-02, 1.48666667e-01],\n",
       "       [1.39500000e-01, 1.11428571e-01, 7.83333333e-03, 2.82452381e-01,\n",
       "        6.80238095e-02, 1.47238095e-01, 2.59285714e-02, 2.86666667e-02,\n",
       "        1.44166667e-01, 4.47619048e-02],\n",
       "       [1.04761905e-02, 8.64661654e-01, 4.76190476e-04, 1.00000000e-02,\n",
       "        7.19298246e-03, 1.00000000e-02, 1.17857143e-02, 1.24060150e-03,\n",
       "        0.00000000e+00, 8.41666667e-02],\n",
       "       [3.84166667e-01, 4.37500000e-02, 4.78333333e-02, 1.16500000e-01,\n",
       "        1.22250000e-01, 5.50000000e-02, 4.48333333e-02, 8.16666667e-02,\n",
       "        3.95000000e-02, 6.45000000e-02],\n",
       "       [3.00000000e-02, 9.04166667e-02, 1.98250000e-01, 7.03333333e-02,\n",
       "        2.65000000e-01, 9.83333333e-02, 1.02000000e-01, 6.08333333e-02,\n",
       "        2.04285714e-02, 6.44047619e-02],\n",
       "       [0.00000000e+00, 1.33333333e-02, 1.03333333e-02, 1.66666667e-02,\n",
       "        1.63095238e-02, 3.91666667e-02, 4.04202381e-01, 4.02233193e-01,\n",
       "        8.24215686e-02, 1.53333333e-02],\n",
       "       [6.30873016e-02, 2.62638778e-01, 2.47605275e-01, 3.45000000e-02,\n",
       "        4.81929825e-02, 2.13611111e-02, 7.11666667e-02, 9.70589955e-02,\n",
       "        3.07777778e-02, 1.23611111e-01]])"
      ]
     },
     "execution_count": 47,
     "metadata": {},
     "output_type": "execute_result"
    }
   ],
   "source": [
    "pred_prob = forest_clf.predict_proba(X_test)\n",
    "pred_prob"
   ]
  },
  {
   "cell_type": "code",
   "execution_count": 48,
   "metadata": {},
   "outputs": [
    {
     "data": {
      "text/plain": [
       "(43, 10)"
      ]
     },
     "execution_count": 48,
     "metadata": {},
     "output_type": "execute_result"
    }
   ],
   "source": [
    "pred_prob.shape"
   ]
  },
  {
   "cell_type": "code",
   "execution_count": 49,
   "metadata": {},
   "outputs": [],
   "source": [
    "from sklearn.metrics import auc, roc_curve\n",
    "from sklearn.preprocessing import label_binarize\n",
    "\n",
    "y_bin = label_binarize(y_test,classes=np.unique(y_test))"
   ]
  },
  {
   "cell_type": "code",
   "execution_count": 50,
   "metadata": {},
   "outputs": [
    {
     "data": {
      "text/plain": [
       "(43, 10)"
      ]
     },
     "execution_count": 50,
     "metadata": {},
     "output_type": "execute_result"
    }
   ],
   "source": [
    "y_bin.shape"
   ]
  },
  {
   "cell_type": "code",
   "execution_count": 52,
   "metadata": {},
   "outputs": [
    {
     "data": {
      "text/plain": [
       "(43, 10)"
      ]
     },
     "execution_count": 52,
     "metadata": {},
     "output_type": "execute_result"
    }
   ],
   "source": [
    "pred_prob.shape"
   ]
  },
  {
   "cell_type": "code",
   "execution_count": 53,
   "metadata": {},
   "outputs": [
    {
     "data": {
      "image/png": "[encoded data removed]",
      "text/plain": [
       "<Figure size 640x480 with 1 Axes>"
      ]
     },
     "metadata": {},
     "output_type": "display_data"
    }
   ],
   "source": [
    "fpr = {}\n",
    "tpr = {}\n",
    "thresh ={}\n",
    "roc_auc = dict()\n",
    "\n",
    "n_class = 10\n",
    "classes = [i for i in range(11)]\n",
    "\n",
    "for i in range(n_class):    \n",
    "    fpr[i], tpr[i], thresh[i] = roc_curve(y_bin[:,i], pred_prob[:,i])\n",
    "    roc_auc[i] = auc(fpr[i], tpr[i])\n",
    "    plt.plot(fpr[i], tpr[i], linestyle='--', label='%s vs Rest (AUC=%0.2f)'%(classes[i],roc_auc[i]))\n",
    "\n",
    "plt.plot([0,1],[0,1],'b--')\n",
    "plt.xlim([0,1])\n",
    "plt.ylim([0,1.05])\n",
    "plt.title('Multiclass ROC curve')\n",
    "plt.xlabel('False Positive Rate')\n",
    "plt.ylabel('True Positive rate')\n",
    "plt.legend(loc='lower right')\n",
    "plt.show()"
   ]
  },
  {
   "cell_type": "code",
   "execution_count": null,
   "metadata": {},
   "outputs": [],
   "source": []
  }
 ],
 "metadata": {
  "kernelspec": {
   "display_name": "Python 3 (ipykernel)",
   "language": "python",
   "name": "python3"
  },
  "language_info": {
   "codemirror_mode": {
    "name": "ipython",
    "version": 3
   },
   "file_extension": ".py",
   "mimetype": "text/x-python",
   "name": "python",
   "nbconvert_exporter": "python",
   "pygments_lexer": "ipython3",
   "version": "3.10.9 (tags/v3.10.9:1dd9be6, Dec  6 2022, 20:01:21) [MSC v.1934 64 bit (AMD64)]"
  },
  "vscode": {
   "interpreter": {
    "hash": "c0ea6b908d2a7173c7602c64278c5de62017ccb8b8d2a9bb23363ec36ffa56f8"
   }
  }
 },
 "nbformat": 4,
 "nbformat_minor": 2
}
